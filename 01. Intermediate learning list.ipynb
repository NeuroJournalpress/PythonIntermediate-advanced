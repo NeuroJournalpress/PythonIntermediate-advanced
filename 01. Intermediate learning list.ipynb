{
 "cells": [
  {
   "cell_type": "code",
   "execution_count": 1,
   "metadata": {
    "collapsed": true
   },
   "outputs": [
    {
     "name": "stdout",
     "output_type": "stream",
     "text": [
      "['banana', 'cherry', 'apple']\n"
     ]
    }
   ],
   "source": [
    "#1. List:\n",
    "my_list = ['banana', 'cherry', 'apple']\n",
    "print (my_list)"
   ]
  },
  {
   "cell_type": "code",
   "execution_count": 2,
   "metadata": {
    "collapsed": true
   },
   "outputs": [
    {
     "name": "stdout",
     "output_type": "stream",
     "text": [
      "[]\n"
     ]
    }
   ],
   "source": [
    "#create an empty list\n",
    "mylist2 = list()\n",
    "print(mylist2)"
   ]
  },
  {
   "cell_type": "code",
   "execution_count": 3,
   "metadata": {
    "collapsed": true
   },
   "outputs": [
    {
     "name": "stdout",
     "output_type": "stream",
     "text": [
      "['apple', 3, 3, 'my', True, False, 1462, 100, 'my']\n"
     ]
    }
   ],
   "source": [
    "#list allows different items such as integer, boolean, ...\n",
    "#list allows duplicate items for example:\n",
    "list3 = ['apple', 3, 3, 'my', True, False, 34*43, 100, 'my']\n",
    "print(list3)"
   ]
  },
  {
   "cell_type": "code",
   "execution_count": 4,
   "metadata": {
    "collapsed": true
   },
   "outputs": [
    {
     "name": "stdout",
     "output_type": "stream",
     "text": [
      "No\n"
     ]
    }
   ],
   "source": [
    "#we can use list with for , if and ... commands\n",
    "if \"banana\" in list3:\n",
    "    print('yes')\n",
    "else:\n",
    "    print('No')"
   ]
  },
  {
   "cell_type": "code",
   "execution_count": 5,
   "metadata": {
    "collapsed": true
   },
   "outputs": [
    {
     "name": "stdout",
     "output_type": "stream",
     "text": [
      "yes\n"
     ]
    }
   ],
   "source": [
    "if 1462 in list3:\n",
    "    print('yes')\n",
    "else:\n",
    "    print('No')"
   ]
  },
  {
   "cell_type": "code",
   "execution_count": 6,
   "metadata": {
    "collapsed": true
   },
   "outputs": [
    {
     "name": "stdout",
     "output_type": "stream",
     "text": [
      "yes\n"
     ]
    }
   ],
   "source": [
    "if 34*43 in list3:\n",
    "    print('yes')\n",
    "else:\n",
    "    print('No')"
   ]
  },
  {
   "cell_type": "code",
   "execution_count": 7,
   "metadata": {
    "collapsed": true
   },
   "outputs": [
    {
     "name": "stdout",
     "output_type": "stream",
     "text": [
      "apple\n"
     ]
    }
   ],
   "source": [
    "#index of list starts with zero\n",
    "#example:\n",
    "item = list3[0]\n",
    "print(item)"
   ]
  },
  {
   "cell_type": "code",
   "execution_count": 8,
   "metadata": {
    "collapsed": true
   },
   "outputs": [
    {
     "name": "stdout",
     "output_type": "stream",
     "text": [
      "my\n"
     ]
    }
   ],
   "source": [
    "#the last item is index -1\n",
    "lastitem = list3[-1]\n",
    "print(lastitem)"
   ]
  },
  {
   "cell_type": "code",
   "execution_count": 9,
   "metadata": {
    "collapsed": true
   },
   "outputs": [
    {
     "name": "stdout",
     "output_type": "stream",
     "text": [
      "apple\n",
      "3\n",
      "3\n",
      "my\n",
      "True\n",
      "False\n",
      "1462\n",
      "100\n",
      "my\n"
     ]
    }
   ],
   "source": [
    "#print all elements in a list:\n",
    "for i in list3:                   #letter i can be any other letter or example\n",
    "    print(i) "
   ]
  },
  {
   "cell_type": "code",
   "execution_count": 10,
   "metadata": {
    "collapsed": true
   },
   "outputs": [
    {
     "name": "stdout",
     "output_type": "stream",
     "text": [
      "apple\n",
      "3\n",
      "3\n",
      "my\n",
      "True\n",
      "False\n",
      "1462\n",
      "100\n",
      "my\n"
     ]
    }
   ],
   "source": [
    "for baby in list3:        \n",
    "    print(baby) "
   ]
  },
  {
   "cell_type": "code",
   "execution_count": 12,
   "metadata": {},
   "outputs": [
    {
     "name": "stdout",
     "output_type": "stream",
     "text": [
      "9\n"
     ]
    }
   ],
   "source": [
    "#to check number of elements in a list \n",
    "print(len(list3))"
   ]
  },
  {
   "cell_type": "code",
   "execution_count": 14,
   "metadata": {},
   "outputs": [
    {
     "name": "stdout",
     "output_type": "stream",
     "text": [
      "['apple', 3, 3, 'my', True, False, 1462, 100, 'my', 'hello', 'hello']\n"
     ]
    }
   ],
   "source": [
    "#to add element to a list use .append\n",
    "#(item goes to the last point of the list)\n",
    "list3.append('hello')\n",
    "print(list3)"
   ]
  },
  {
   "cell_type": "code",
   "execution_count": 15,
   "metadata": {},
   "outputs": [
    {
     "name": "stdout",
     "output_type": "stream",
     "text": [
      "['apple', 'new item', 3, 3, 'my', True, False, 1462, 100, 'my', 'hello', 'hello']\n"
     ]
    }
   ],
   "source": [
    "#if you want to add an element into a specific place use insert\n",
    "list3.insert(1, 'new item')\n",
    "print(list3)"
   ]
  },
  {
   "cell_type": "code",
   "execution_count": 16,
   "metadata": {},
   "outputs": [
    {
     "name": "stdout",
     "output_type": "stream",
     "text": [
      "['apple', 'new item', 3, 3, 'my', True, False, 1462, 100, 'my', 'hello']\n"
     ]
    }
   ],
   "source": [
    "#to remove an item we use the command .pop() >> this eleminates the last item\n",
    "list3.pop()\n",
    "print(list3)"
   ]
  },
  {
   "cell_type": "code",
   "execution_count": 17,
   "metadata": {},
   "outputs": [
    {
     "name": "stdout",
     "output_type": "stream",
     "text": [
      "['apple', 3, 3, 'my', True, False, 1462, 100, 'my', 'hello']\n"
     ]
    }
   ],
   "source": [
    "#if you want to remove a spcific item use .remove()\n",
    "list3.remove('new item')\n",
    "print(list3)"
   ]
  },
  {
   "cell_type": "code",
   "execution_count": 20,
   "metadata": {},
   "outputs": [
    {
     "name": "stdout",
     "output_type": "stream",
     "text": [
      "[]\n"
     ]
    }
   ],
   "source": [
    "# to clear all elements use .clear()\n",
    "list3.clear()\n",
    "print(list3)"
   ]
  },
  {
   "cell_type": "code",
   "execution_count": 32,
   "metadata": {},
   "outputs": [
    {
     "name": "stdout",
     "output_type": "stream",
     "text": [
      "None\n"
     ]
    }
   ],
   "source": [
    "#if you want to reverse the list use .reverse()\n",
    "mylist = ['a', 'b', 'c']\n",
    "item = mylist.reverse()\n",
    "print(item)"
   ]
  },
  {
   "cell_type": "code",
   "execution_count": 34,
   "metadata": {},
   "outputs": [
    {
     "name": "stdout",
     "output_type": "stream",
     "text": [
      "[0, 1, 2, 3, 4, 5, 6, 8]\n"
     ]
    }
   ],
   "source": [
    "#if you want to sort a list use .sort()\n",
    "lista = [4, 3, 5, 6, 8, 2, 1, 0]\n",
    "sortlista = lista.sort()\n",
    "print(lista)"
   ]
  },
  {
   "cell_type": "code",
   "execution_count": 38,
   "metadata": {},
   "outputs": [
    {
     "name": "stdout",
     "output_type": "stream",
     "text": [
      "[0, 1, 2, 3, 4, 5, 6]\n",
      "[-4, -1, 0, 1, 2, 3, 5, 9]\n",
      "[3, 2, 4, 6, 7, 0, 1]\n",
      "[0, 1, 2, 3, 4, 6, 7]\n"
     ]
    }
   ],
   "source": [
    "############################################################################################\n",
    "#      .sort() or .reverse() do not return any display, they do action on the main list    #\n",
    "#      so it is better to print(mainlist) not new item you created                         #\n",
    "############################################################################################\n",
    "\n",
    "list1 = [6, 5, 4, 3, 2, 1, 0]\n",
    "list1.reverse()\n",
    "print(list1)\n",
    "\n",
    "############################################################################################\n",
    "#      .sort() works in an ascending format not descending means from smaller to bigger    #\n",
    "############################################################################################\n",
    "\n",
    "list2 = [-1, 9, -4, 3, 2, 5, 1, 0]\n",
    "list2.sort()\n",
    "print(list2)\n",
    "\n",
    "############################################################################################\n",
    "# if you want a new list to be sorted and not the main list, use sorted() and assign it   #\n",
    "# a new varibale                                                                           #\n",
    "############################################################################################\n",
    "\n",
    "list3 = [3, 2, 4, 6, 7, 0, 1]\n",
    "new_list3 = sorted(list3)\n",
    "print(list3)   #will not change the original list3\n",
    "print(new_list3) #create a new sorted list 3"
   ]
  },
  {
   "cell_type": "code",
   "execution_count": 39,
   "metadata": {},
   "outputs": [
    {
     "name": "stdout",
     "output_type": "stream",
     "text": [
      "[1, 2, 3, 1, 2, 3, 1, 2, 3]\n"
     ]
    }
   ],
   "source": [
    "# if you want to have a list which is N times repeated, easily use this fuction\n",
    "multiplylist = [1, 2, 3] * 3\n",
    "print(multiplylist)"
   ]
  },
  {
   "cell_type": "code",
   "execution_count": 41,
   "metadata": {},
   "outputs": [
    {
     "name": "stdout",
     "output_type": "stream",
     "text": [
      "[1, 2, 3, 4, 5, 12, 13, 1, 55, 6]\n"
     ]
    }
   ],
   "source": [
    "# if you want to concatenate (links or gather) a list\n",
    "\n",
    "my_list1 = [1, 2, 3, 4, 5]\n",
    "my_list2 = [12, 13, 1, 55, 6]\n",
    "\n",
    "my_list3 = my_list1 + my_list2\n",
    "print(my_list3)"
   ]
  },
  {
   "cell_type": "code",
   "execution_count": null,
   "metadata": {},
   "outputs": [],
   "source": []
  },
  {
   "cell_type": "code",
   "execution_count": 6,
   "metadata": {},
   "outputs": [
    {
     "name": "stdout",
     "output_type": "stream",
     "text": [
      "[2, 3, 4, 5]\n",
      "[1, 2, 3, 4, 5]\n",
      "[2, 3, 4, 5, 6, 7, 8, 9]\n",
      "[1, 2, 3, 4, 5, 6, 7, 8, 9]\n",
      "[1, 3, 5, 7, 9]\n",
      "[1, 4, 7]\n"
     ]
    }
   ],
   "source": [
    "#slicing, a way to access to some part of a list\n",
    "list1 = [1, 2, 3, 4, 5, 6, 7, 8, 9]\n",
    "a = list1[1:5]        #chose from index 1 to 5(5 is not included)\n",
    "#first item is 0 index\n",
    "print(a)\n",
    "\n",
    "#if we choose like [:5] it takes all items up to 5th index:\n",
    "print(list1[:5])\n",
    "#if we don't specify end, it goes from index mentioned to the end:\n",
    "print((list1[1:]))\n",
    "\n",
    "#if you want to choose just with specific items for examples each 2nd we can use:\n",
    "print(list1[::1])\n",
    "print(list1[::2])\n",
    "print(list1[::3])"
   ]
  },
  {
   "cell_type": "code",
   "execution_count": 7,
   "metadata": {},
   "outputs": [
    {
     "name": "stdout",
     "output_type": "stream",
     "text": [
      "[9, 8, 7, 6, 5, 4, 3, 2, 1]\n"
     ]
    }
   ],
   "source": [
    "# a trick to reverse your list is to use such this command\n",
    "listb = [1, 2, 3, 4, 5, 6, 7, 8, 9]\n",
    "print(listb[::-1])"
   ]
  },
  {
   "cell_type": "code",
   "execution_count": 8,
   "metadata": {},
   "outputs": [
    {
     "name": "stdout",
     "output_type": "stream",
     "text": [
      "[9, 7, 5, 3, 1]\n"
     ]
    }
   ],
   "source": [
    "print(listb[::-2])"
   ]
  },
  {
   "cell_type": "code",
   "execution_count": 10,
   "metadata": {},
   "outputs": [
    {
     "name": "stdout",
     "output_type": "stream",
     "text": [
      "[1, 2, 3]\n"
     ]
    }
   ],
   "source": [
    "#to copy a list just add command .copy on the list\n",
    "####\n",
    "#do not use this command  list_copy = list_org because any changes to anyone of those\n",
    "#list, causes change in other too.\n",
    "list_org = [1, 2, 3]\n",
    "list_copy = list_org.copy()\n",
    "print(list_copy)"
   ]
  },
  {
   "cell_type": "code",
   "execution_count": 11,
   "metadata": {},
   "outputs": [
    {
     "name": "stdout",
     "output_type": "stream",
     "text": [
      "[1, 2, 3, 4]\n"
     ]
    }
   ],
   "source": [
    "#now if I change copy list there will be no change to org list\n",
    "list_copy.append(4)\n",
    "print(list_copy)"
   ]
  },
  {
   "cell_type": "code",
   "execution_count": 13,
   "metadata": {},
   "outputs": [
    {
     "name": "stdout",
     "output_type": "stream",
     "text": [
      "[1, 2, 3]\n"
     ]
    }
   ],
   "source": [
    "list_copy.pop()\n",
    "print(list_copy)"
   ]
  },
  {
   "cell_type": "code",
   "execution_count": 18,
   "metadata": {},
   "outputs": [
    {
     "name": "stdout",
     "output_type": "stream",
     "text": [
      "[2, 'hello']\n"
     ]
    }
   ],
   "source": [
    "list_copy.remove(3)\n",
    "list_copy.insert(2, \"hello\")\n",
    "print(list_copy)"
   ]
  },
  {
   "cell_type": "code",
   "execution_count": 2,
   "metadata": {},
   "outputs": [
    {
     "output_type": "stream",
     "name": "stdout",
     "text": [
      "[1, 2, 3, 4, 5, 6]\n[1, 4, 9, 16, 25, 36]\n[0, 6, 16, 30, 48, 70]\n"
     ]
    }
   ],
   "source": [
    "#list comprehension : create list from  an existing list\n",
    "my_list4 = [1, 2, 3, 4, 5, 6]\n",
    "mylist4_N = [i*i for i in my_list4]\n",
    "#in this command we made a new list which is inclide i*i e.g. 2*2\n",
    "#we can use any specific form of the list\n",
    "print(my_list4)\n",
    "print(mylist4_N)\n",
    "#another form as example\n",
    "mylist4_N2 = [i*2-2 for i in mylist4_N]\n",
    "print(mylist4_N2)\n",
    " "
   ]
  },
  {
   "cell_type": "code",
   "execution_count": null,
   "metadata": {},
   "outputs": [],
   "source": []
  }
 ],
 "metadata": {
  "kernelspec": {
   "name": "python395jvsc74a57bd0b207607561fa681ca4dbf3d80d4258979eef238f02990d237a8978014fbfa7b7",
   "display_name": "Python 3.9.5 64-bit"
  },
  "language_info": {
   "codemirror_mode": {
    "name": "ipython",
    "version": 3
   },
   "file_extension": ".py",
   "mimetype": "text/x-python",
   "name": "python",
   "nbconvert_exporter": "python",
   "pygments_lexer": "ipython3",
   "version": "3.9.5"
  }
 },
 "nbformat": 4,
 "nbformat_minor": 4
}